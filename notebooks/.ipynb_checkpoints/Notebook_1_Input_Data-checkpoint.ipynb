version https://git-lfs.github.com/spec/v1
oid sha256:d82ce20f9a089776d5b3d3ec1fdff903b4e98c69e4f6b1ee59d5a3f253a6d808
size 1248557
