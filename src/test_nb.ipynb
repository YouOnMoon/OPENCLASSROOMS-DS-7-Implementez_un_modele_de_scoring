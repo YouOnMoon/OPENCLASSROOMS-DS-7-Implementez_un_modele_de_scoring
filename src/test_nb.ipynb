version https://git-lfs.github.com/spec/v1
oid sha256:2c146b9fd0562c888051d518c8449cfd461ca8f36d266255d051988f817efae9
size 36317
