version https://git-lfs.github.com/spec/v1
oid sha256:18436d23e09037087ae721c8a65cdea0362f908cd868cdbb3692df8f9b8f3ee2
size 19625
