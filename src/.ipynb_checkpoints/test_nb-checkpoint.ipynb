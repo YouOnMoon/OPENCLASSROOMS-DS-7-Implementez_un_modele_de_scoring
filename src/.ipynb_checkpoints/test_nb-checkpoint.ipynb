version https://git-lfs.github.com/spec/v1
oid sha256:b50778b2a142f13bd9cce53f6dcaf4940c5bea25247dcef26b2b517eab1e9664
size 19040
