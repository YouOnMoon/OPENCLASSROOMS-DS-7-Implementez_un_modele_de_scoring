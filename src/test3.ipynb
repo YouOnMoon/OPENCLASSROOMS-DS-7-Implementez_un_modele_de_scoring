version https://git-lfs.github.com/spec/v1
oid sha256:64c101c7adf6008e9aa153fb5737a28c6e9b39784539a4aadb01e1686bd6e9b1
size 3930941
