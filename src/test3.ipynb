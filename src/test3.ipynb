version https://git-lfs.github.com/spec/v1
oid sha256:5fcd087c3b5a225d86f365ca01306f147c6b1180e204bb1a6f72dca50fee0ea5
size 6750951
